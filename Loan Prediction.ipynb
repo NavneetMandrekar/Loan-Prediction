{
 "cells": [
  {
   "cell_type": "code",
   "execution_count": 1,
   "id": "b5458440",
   "metadata": {},
   "outputs": [],
   "source": [
    "import pandas as pd\n",
    "import numpy as np\n",
    "import matplotlib.pyplot as plt\n",
    "%matplotlib inline"
   ]
  },
  {
   "cell_type": "code",
   "execution_count": 2,
   "id": "66aed241",
   "metadata": {},
   "outputs": [],
   "source": [
    "data=pd.read_csv(r'D:\\Data Science projects\\LoanPrediction\\train.csv')"
   ]
  },
  {
   "cell_type": "code",
   "execution_count": 3,
   "id": "394fe2ca",
   "metadata": {},
   "outputs": [
    {
     "data": {
      "text/html": [
       "<div>\n",
       "<style scoped>\n",
       "    .dataframe tbody tr th:only-of-type {\n",
       "        vertical-align: middle;\n",
       "    }\n",
       "\n",
       "    .dataframe tbody tr th {\n",
       "        vertical-align: top;\n",
       "    }\n",
       "\n",
       "    .dataframe thead th {\n",
       "        text-align: right;\n",
       "    }\n",
       "</style>\n",
       "<table border=\"1\" class=\"dataframe\">\n",
       "  <thead>\n",
       "    <tr style=\"text-align: right;\">\n",
       "      <th></th>\n",
       "      <th>Loan_ID</th>\n",
       "      <th>Gender</th>\n",
       "      <th>Married</th>\n",
       "      <th>Dependents</th>\n",
       "      <th>Education</th>\n",
       "      <th>Self_Employed</th>\n",
       "      <th>ApplicantIncome</th>\n",
       "      <th>CoapplicantIncome</th>\n",
       "      <th>LoanAmount</th>\n",
       "      <th>Loan_Amount_Term</th>\n",
       "      <th>Credit_History</th>\n",
       "      <th>Property_Area</th>\n",
       "      <th>Loan_Status</th>\n",
       "    </tr>\n",
       "  </thead>\n",
       "  <tbody>\n",
       "    <tr>\n",
       "      <th>0</th>\n",
       "      <td>LP001002</td>\n",
       "      <td>Male</td>\n",
       "      <td>No</td>\n",
       "      <td>0</td>\n",
       "      <td>Graduate</td>\n",
       "      <td>No</td>\n",
       "      <td>5849</td>\n",
       "      <td>0.0</td>\n",
       "      <td>NaN</td>\n",
       "      <td>360.0</td>\n",
       "      <td>1.0</td>\n",
       "      <td>Urban</td>\n",
       "      <td>Y</td>\n",
       "    </tr>\n",
       "    <tr>\n",
       "      <th>1</th>\n",
       "      <td>LP001003</td>\n",
       "      <td>Male</td>\n",
       "      <td>Yes</td>\n",
       "      <td>1</td>\n",
       "      <td>Graduate</td>\n",
       "      <td>No</td>\n",
       "      <td>4583</td>\n",
       "      <td>1508.0</td>\n",
       "      <td>128.0</td>\n",
       "      <td>360.0</td>\n",
       "      <td>1.0</td>\n",
       "      <td>Rural</td>\n",
       "      <td>N</td>\n",
       "    </tr>\n",
       "    <tr>\n",
       "      <th>2</th>\n",
       "      <td>LP001005</td>\n",
       "      <td>Male</td>\n",
       "      <td>Yes</td>\n",
       "      <td>0</td>\n",
       "      <td>Graduate</td>\n",
       "      <td>Yes</td>\n",
       "      <td>3000</td>\n",
       "      <td>0.0</td>\n",
       "      <td>66.0</td>\n",
       "      <td>360.0</td>\n",
       "      <td>1.0</td>\n",
       "      <td>Urban</td>\n",
       "      <td>Y</td>\n",
       "    </tr>\n",
       "    <tr>\n",
       "      <th>3</th>\n",
       "      <td>LP001006</td>\n",
       "      <td>Male</td>\n",
       "      <td>Yes</td>\n",
       "      <td>0</td>\n",
       "      <td>Not Graduate</td>\n",
       "      <td>No</td>\n",
       "      <td>2583</td>\n",
       "      <td>2358.0</td>\n",
       "      <td>120.0</td>\n",
       "      <td>360.0</td>\n",
       "      <td>1.0</td>\n",
       "      <td>Urban</td>\n",
       "      <td>Y</td>\n",
       "    </tr>\n",
       "    <tr>\n",
       "      <th>4</th>\n",
       "      <td>LP001008</td>\n",
       "      <td>Male</td>\n",
       "      <td>No</td>\n",
       "      <td>0</td>\n",
       "      <td>Graduate</td>\n",
       "      <td>No</td>\n",
       "      <td>6000</td>\n",
       "      <td>0.0</td>\n",
       "      <td>141.0</td>\n",
       "      <td>360.0</td>\n",
       "      <td>1.0</td>\n",
       "      <td>Urban</td>\n",
       "      <td>Y</td>\n",
       "    </tr>\n",
       "    <tr>\n",
       "      <th>...</th>\n",
       "      <td>...</td>\n",
       "      <td>...</td>\n",
       "      <td>...</td>\n",
       "      <td>...</td>\n",
       "      <td>...</td>\n",
       "      <td>...</td>\n",
       "      <td>...</td>\n",
       "      <td>...</td>\n",
       "      <td>...</td>\n",
       "      <td>...</td>\n",
       "      <td>...</td>\n",
       "      <td>...</td>\n",
       "      <td>...</td>\n",
       "    </tr>\n",
       "    <tr>\n",
       "      <th>609</th>\n",
       "      <td>LP002978</td>\n",
       "      <td>Female</td>\n",
       "      <td>No</td>\n",
       "      <td>0</td>\n",
       "      <td>Graduate</td>\n",
       "      <td>No</td>\n",
       "      <td>2900</td>\n",
       "      <td>0.0</td>\n",
       "      <td>71.0</td>\n",
       "      <td>360.0</td>\n",
       "      <td>1.0</td>\n",
       "      <td>Rural</td>\n",
       "      <td>Y</td>\n",
       "    </tr>\n",
       "    <tr>\n",
       "      <th>610</th>\n",
       "      <td>LP002979</td>\n",
       "      <td>Male</td>\n",
       "      <td>Yes</td>\n",
       "      <td>3+</td>\n",
       "      <td>Graduate</td>\n",
       "      <td>No</td>\n",
       "      <td>4106</td>\n",
       "      <td>0.0</td>\n",
       "      <td>40.0</td>\n",
       "      <td>180.0</td>\n",
       "      <td>1.0</td>\n",
       "      <td>Rural</td>\n",
       "      <td>Y</td>\n",
       "    </tr>\n",
       "    <tr>\n",
       "      <th>611</th>\n",
       "      <td>LP002983</td>\n",
       "      <td>Male</td>\n",
       "      <td>Yes</td>\n",
       "      <td>1</td>\n",
       "      <td>Graduate</td>\n",
       "      <td>No</td>\n",
       "      <td>8072</td>\n",
       "      <td>240.0</td>\n",
       "      <td>253.0</td>\n",
       "      <td>360.0</td>\n",
       "      <td>1.0</td>\n",
       "      <td>Urban</td>\n",
       "      <td>Y</td>\n",
       "    </tr>\n",
       "    <tr>\n",
       "      <th>612</th>\n",
       "      <td>LP002984</td>\n",
       "      <td>Male</td>\n",
       "      <td>Yes</td>\n",
       "      <td>2</td>\n",
       "      <td>Graduate</td>\n",
       "      <td>No</td>\n",
       "      <td>7583</td>\n",
       "      <td>0.0</td>\n",
       "      <td>187.0</td>\n",
       "      <td>360.0</td>\n",
       "      <td>1.0</td>\n",
       "      <td>Urban</td>\n",
       "      <td>Y</td>\n",
       "    </tr>\n",
       "    <tr>\n",
       "      <th>613</th>\n",
       "      <td>LP002990</td>\n",
       "      <td>Female</td>\n",
       "      <td>No</td>\n",
       "      <td>0</td>\n",
       "      <td>Graduate</td>\n",
       "      <td>Yes</td>\n",
       "      <td>4583</td>\n",
       "      <td>0.0</td>\n",
       "      <td>133.0</td>\n",
       "      <td>360.0</td>\n",
       "      <td>0.0</td>\n",
       "      <td>Semiurban</td>\n",
       "      <td>N</td>\n",
       "    </tr>\n",
       "  </tbody>\n",
       "</table>\n",
       "<p>614 rows × 13 columns</p>\n",
       "</div>"
      ],
      "text/plain": [
       "      Loan_ID  Gender Married Dependents     Education Self_Employed  \\\n",
       "0    LP001002    Male      No          0      Graduate            No   \n",
       "1    LP001003    Male     Yes          1      Graduate            No   \n",
       "2    LP001005    Male     Yes          0      Graduate           Yes   \n",
       "3    LP001006    Male     Yes          0  Not Graduate            No   \n",
       "4    LP001008    Male      No          0      Graduate            No   \n",
       "..        ...     ...     ...        ...           ...           ...   \n",
       "609  LP002978  Female      No          0      Graduate            No   \n",
       "610  LP002979    Male     Yes         3+      Graduate            No   \n",
       "611  LP002983    Male     Yes          1      Graduate            No   \n",
       "612  LP002984    Male     Yes          2      Graduate            No   \n",
       "613  LP002990  Female      No          0      Graduate           Yes   \n",
       "\n",
       "     ApplicantIncome  CoapplicantIncome  LoanAmount  Loan_Amount_Term  \\\n",
       "0               5849                0.0         NaN             360.0   \n",
       "1               4583             1508.0       128.0             360.0   \n",
       "2               3000                0.0        66.0             360.0   \n",
       "3               2583             2358.0       120.0             360.0   \n",
       "4               6000                0.0       141.0             360.0   \n",
       "..               ...                ...         ...               ...   \n",
       "609             2900                0.0        71.0             360.0   \n",
       "610             4106                0.0        40.0             180.0   \n",
       "611             8072              240.0       253.0             360.0   \n",
       "612             7583                0.0       187.0             360.0   \n",
       "613             4583                0.0       133.0             360.0   \n",
       "\n",
       "     Credit_History Property_Area Loan_Status  \n",
       "0               1.0         Urban           Y  \n",
       "1               1.0         Rural           N  \n",
       "2               1.0         Urban           Y  \n",
       "3               1.0         Urban           Y  \n",
       "4               1.0         Urban           Y  \n",
       "..              ...           ...         ...  \n",
       "609             1.0         Rural           Y  \n",
       "610             1.0         Rural           Y  \n",
       "611             1.0         Urban           Y  \n",
       "612             1.0         Urban           Y  \n",
       "613             0.0     Semiurban           N  \n",
       "\n",
       "[614 rows x 13 columns]"
      ]
     },
     "execution_count": 3,
     "metadata": {},
     "output_type": "execute_result"
    }
   ],
   "source": [
    "data"
   ]
  },
  {
   "cell_type": "code",
   "execution_count": 4,
   "id": "0a169298",
   "metadata": {},
   "outputs": [
    {
     "data": {
      "text/html": [
       "<div>\n",
       "<style scoped>\n",
       "    .dataframe tbody tr th:only-of-type {\n",
       "        vertical-align: middle;\n",
       "    }\n",
       "\n",
       "    .dataframe tbody tr th {\n",
       "        vertical-align: top;\n",
       "    }\n",
       "\n",
       "    .dataframe thead th {\n",
       "        text-align: right;\n",
       "    }\n",
       "</style>\n",
       "<table border=\"1\" class=\"dataframe\">\n",
       "  <thead>\n",
       "    <tr style=\"text-align: right;\">\n",
       "      <th></th>\n",
       "      <th>Loan_ID</th>\n",
       "      <th>Gender</th>\n",
       "      <th>Married</th>\n",
       "      <th>Dependents</th>\n",
       "      <th>Education</th>\n",
       "      <th>Self_Employed</th>\n",
       "      <th>ApplicantIncome</th>\n",
       "      <th>CoapplicantIncome</th>\n",
       "      <th>LoanAmount</th>\n",
       "      <th>Loan_Amount_Term</th>\n",
       "      <th>Credit_History</th>\n",
       "      <th>Property_Area</th>\n",
       "      <th>Loan_Status</th>\n",
       "    </tr>\n",
       "  </thead>\n",
       "  <tbody>\n",
       "    <tr>\n",
       "      <th>0</th>\n",
       "      <td>LP001002</td>\n",
       "      <td>Male</td>\n",
       "      <td>No</td>\n",
       "      <td>0</td>\n",
       "      <td>Graduate</td>\n",
       "      <td>No</td>\n",
       "      <td>5849</td>\n",
       "      <td>0.0</td>\n",
       "      <td>NaN</td>\n",
       "      <td>360.0</td>\n",
       "      <td>1.0</td>\n",
       "      <td>Urban</td>\n",
       "      <td>Y</td>\n",
       "    </tr>\n",
       "    <tr>\n",
       "      <th>1</th>\n",
       "      <td>LP001003</td>\n",
       "      <td>Male</td>\n",
       "      <td>Yes</td>\n",
       "      <td>1</td>\n",
       "      <td>Graduate</td>\n",
       "      <td>No</td>\n",
       "      <td>4583</td>\n",
       "      <td>1508.0</td>\n",
       "      <td>128.0</td>\n",
       "      <td>360.0</td>\n",
       "      <td>1.0</td>\n",
       "      <td>Rural</td>\n",
       "      <td>N</td>\n",
       "    </tr>\n",
       "    <tr>\n",
       "      <th>2</th>\n",
       "      <td>LP001005</td>\n",
       "      <td>Male</td>\n",
       "      <td>Yes</td>\n",
       "      <td>0</td>\n",
       "      <td>Graduate</td>\n",
       "      <td>Yes</td>\n",
       "      <td>3000</td>\n",
       "      <td>0.0</td>\n",
       "      <td>66.0</td>\n",
       "      <td>360.0</td>\n",
       "      <td>1.0</td>\n",
       "      <td>Urban</td>\n",
       "      <td>Y</td>\n",
       "    </tr>\n",
       "    <tr>\n",
       "      <th>3</th>\n",
       "      <td>LP001006</td>\n",
       "      <td>Male</td>\n",
       "      <td>Yes</td>\n",
       "      <td>0</td>\n",
       "      <td>Not Graduate</td>\n",
       "      <td>No</td>\n",
       "      <td>2583</td>\n",
       "      <td>2358.0</td>\n",
       "      <td>120.0</td>\n",
       "      <td>360.0</td>\n",
       "      <td>1.0</td>\n",
       "      <td>Urban</td>\n",
       "      <td>Y</td>\n",
       "    </tr>\n",
       "    <tr>\n",
       "      <th>4</th>\n",
       "      <td>LP001008</td>\n",
       "      <td>Male</td>\n",
       "      <td>No</td>\n",
       "      <td>0</td>\n",
       "      <td>Graduate</td>\n",
       "      <td>No</td>\n",
       "      <td>6000</td>\n",
       "      <td>0.0</td>\n",
       "      <td>141.0</td>\n",
       "      <td>360.0</td>\n",
       "      <td>1.0</td>\n",
       "      <td>Urban</td>\n",
       "      <td>Y</td>\n",
       "    </tr>\n",
       "  </tbody>\n",
       "</table>\n",
       "</div>"
      ],
      "text/plain": [
       "    Loan_ID Gender Married Dependents     Education Self_Employed  \\\n",
       "0  LP001002   Male      No          0      Graduate            No   \n",
       "1  LP001003   Male     Yes          1      Graduate            No   \n",
       "2  LP001005   Male     Yes          0      Graduate           Yes   \n",
       "3  LP001006   Male     Yes          0  Not Graduate            No   \n",
       "4  LP001008   Male      No          0      Graduate            No   \n",
       "\n",
       "   ApplicantIncome  CoapplicantIncome  LoanAmount  Loan_Amount_Term  \\\n",
       "0             5849                0.0         NaN             360.0   \n",
       "1             4583             1508.0       128.0             360.0   \n",
       "2             3000                0.0        66.0             360.0   \n",
       "3             2583             2358.0       120.0             360.0   \n",
       "4             6000                0.0       141.0             360.0   \n",
       "\n",
       "   Credit_History Property_Area Loan_Status  \n",
       "0             1.0         Urban           Y  \n",
       "1             1.0         Rural           N  \n",
       "2             1.0         Urban           Y  \n",
       "3             1.0         Urban           Y  \n",
       "4             1.0         Urban           Y  "
      ]
     },
     "execution_count": 4,
     "metadata": {},
     "output_type": "execute_result"
    }
   ],
   "source": [
    "data.head()"
   ]
  },
  {
   "cell_type": "code",
   "execution_count": 5,
   "id": "c158b765",
   "metadata": {},
   "outputs": [
    {
     "name": "stdout",
     "output_type": "stream",
     "text": [
      "<class 'pandas.core.frame.DataFrame'>\n",
      "RangeIndex: 614 entries, 0 to 613\n",
      "Data columns (total 13 columns):\n",
      " #   Column             Non-Null Count  Dtype  \n",
      "---  ------             --------------  -----  \n",
      " 0   Loan_ID            614 non-null    object \n",
      " 1   Gender             601 non-null    object \n",
      " 2   Married            611 non-null    object \n",
      " 3   Dependents         599 non-null    object \n",
      " 4   Education          614 non-null    object \n",
      " 5   Self_Employed      582 non-null    object \n",
      " 6   ApplicantIncome    614 non-null    int64  \n",
      " 7   CoapplicantIncome  614 non-null    float64\n",
      " 8   LoanAmount         592 non-null    float64\n",
      " 9   Loan_Amount_Term   600 non-null    float64\n",
      " 10  Credit_History     564 non-null    float64\n",
      " 11  Property_Area      614 non-null    object \n",
      " 12  Loan_Status        614 non-null    object \n",
      "dtypes: float64(4), int64(1), object(8)\n",
      "memory usage: 62.5+ KB\n"
     ]
    }
   ],
   "source": [
    "data.info()"
   ]
  },
  {
   "cell_type": "code",
   "execution_count": 6,
   "id": "b221c81b",
   "metadata": {},
   "outputs": [],
   "source": [
    "#Data Preprocessing"
   ]
  },
  {
   "cell_type": "code",
   "execution_count": 7,
   "id": "aa1be817",
   "metadata": {},
   "outputs": [
    {
     "data": {
      "text/plain": [
       "Loan_ID               0\n",
       "Gender               13\n",
       "Married               3\n",
       "Dependents           15\n",
       "Education             0\n",
       "Self_Employed        32\n",
       "ApplicantIncome       0\n",
       "CoapplicantIncome     0\n",
       "LoanAmount           22\n",
       "Loan_Amount_Term     14\n",
       "Credit_History       50\n",
       "Property_Area         0\n",
       "Loan_Status           0\n",
       "dtype: int64"
      ]
     },
     "execution_count": 7,
     "metadata": {},
     "output_type": "execute_result"
    }
   ],
   "source": [
    "data.isna().sum()"
   ]
  },
  {
   "cell_type": "code",
   "execution_count": 8,
   "id": "215dbd6b",
   "metadata": {},
   "outputs": [
    {
     "data": {
      "text/plain": [
       "Male      489\n",
       "Female    112\n",
       "Name: Gender, dtype: int64"
      ]
     },
     "execution_count": 8,
     "metadata": {},
     "output_type": "execute_result"
    }
   ],
   "source": [
    "data['Gender'].value_counts()"
   ]
  },
  {
   "cell_type": "code",
   "execution_count": 9,
   "id": "a8d26a61",
   "metadata": {},
   "outputs": [],
   "source": [
    "data.Gender=data.Gender.fillna('Male')"
   ]
  },
  {
   "cell_type": "code",
   "execution_count": 10,
   "id": "b0b2b693",
   "metadata": {},
   "outputs": [
    {
     "data": {
      "text/plain": [
       "Yes    398\n",
       "No     213\n",
       "Name: Married, dtype: int64"
      ]
     },
     "execution_count": 10,
     "metadata": {},
     "output_type": "execute_result"
    }
   ],
   "source": [
    "data['Married'].value_counts()"
   ]
  },
  {
   "cell_type": "code",
   "execution_count": 11,
   "id": "04813e9b",
   "metadata": {},
   "outputs": [],
   "source": [
    "data.Married=data.Married.fillna('Yes')"
   ]
  },
  {
   "cell_type": "code",
   "execution_count": 12,
   "id": "819e4d1b",
   "metadata": {},
   "outputs": [
    {
     "data": {
      "text/plain": [
       "0     345\n",
       "1     102\n",
       "2     101\n",
       "3+     51\n",
       "Name: Dependents, dtype: int64"
      ]
     },
     "execution_count": 12,
     "metadata": {},
     "output_type": "execute_result"
    }
   ],
   "source": [
    "data['Dependents'].value_counts()"
   ]
  },
  {
   "cell_type": "code",
   "execution_count": 13,
   "id": "cbd3f9a5",
   "metadata": {},
   "outputs": [],
   "source": [
    "data.Dependents = data.Dependents.fillna('0')"
   ]
  },
  {
   "cell_type": "code",
   "execution_count": 14,
   "id": "8517868c",
   "metadata": {},
   "outputs": [
    {
     "data": {
      "text/plain": [
       "No     500\n",
       "Yes     82\n",
       "Name: Self_Employed, dtype: int64"
      ]
     },
     "execution_count": 14,
     "metadata": {},
     "output_type": "execute_result"
    }
   ],
   "source": [
    "data['Self_Employed'].value_counts()"
   ]
  },
  {
   "cell_type": "code",
   "execution_count": 15,
   "id": "f0d0be2a",
   "metadata": {},
   "outputs": [],
   "source": [
    "data.Self_Employed=data.Self_Employed.fillna('No')"
   ]
  },
  {
   "cell_type": "code",
   "execution_count": 16,
   "id": "05cab98f",
   "metadata": {},
   "outputs": [
    {
     "data": {
      "text/plain": [
       "360.0    512\n",
       "180.0     44\n",
       "480.0     15\n",
       "300.0     13\n",
       "240.0      4\n",
       "84.0       4\n",
       "120.0      3\n",
       "60.0       2\n",
       "36.0       2\n",
       "12.0       1\n",
       "Name: Loan_Amount_Term, dtype: int64"
      ]
     },
     "execution_count": 16,
     "metadata": {},
     "output_type": "execute_result"
    }
   ],
   "source": [
    "data['Loan_Amount_Term'].value_counts()"
   ]
  },
  {
   "cell_type": "code",
   "execution_count": 17,
   "id": "9a17af46",
   "metadata": {},
   "outputs": [],
   "source": [
    "data.Loan_Amount_Term=data.Loan_Amount_Term.fillna(360.0)"
   ]
  },
  {
   "cell_type": "code",
   "execution_count": 18,
   "id": "70a90eb4",
   "metadata": {},
   "outputs": [
    {
     "data": {
      "text/plain": [
       "1.0    475\n",
       "0.0     89\n",
       "Name: Credit_History, dtype: int64"
      ]
     },
     "execution_count": 18,
     "metadata": {},
     "output_type": "execute_result"
    }
   ],
   "source": [
    "data['Credit_History'].value_counts()"
   ]
  },
  {
   "cell_type": "code",
   "execution_count": 19,
   "id": "61717a6c",
   "metadata": {},
   "outputs": [],
   "source": [
    "data.Credit_History = data.Credit_History.fillna(1.0)"
   ]
  },
  {
   "cell_type": "code",
   "execution_count": 20,
   "id": "154de49b",
   "metadata": {},
   "outputs": [
    {
     "data": {
      "text/plain": [
       "120.0    20\n",
       "110.0    17\n",
       "100.0    15\n",
       "160.0    12\n",
       "187.0    12\n",
       "         ..\n",
       "240.0     1\n",
       "214.0     1\n",
       "59.0      1\n",
       "166.0     1\n",
       "253.0     1\n",
       "Name: LoanAmount, Length: 203, dtype: int64"
      ]
     },
     "execution_count": 20,
     "metadata": {},
     "output_type": "execute_result"
    }
   ],
   "source": [
    "data['LoanAmount'].value_counts()"
   ]
  },
  {
   "cell_type": "code",
   "execution_count": 21,
   "id": "dee9051e",
   "metadata": {},
   "outputs": [],
   "source": [
    "data.LoanAmount=data.LoanAmount.fillna(120)"
   ]
  },
  {
   "cell_type": "code",
   "execution_count": 22,
   "id": "bec674ed",
   "metadata": {},
   "outputs": [
    {
     "data": {
      "text/plain": [
       "Loan_ID              0\n",
       "Gender               0\n",
       "Married              0\n",
       "Dependents           0\n",
       "Education            0\n",
       "Self_Employed        0\n",
       "ApplicantIncome      0\n",
       "CoapplicantIncome    0\n",
       "LoanAmount           0\n",
       "Loan_Amount_Term     0\n",
       "Credit_History       0\n",
       "Property_Area        0\n",
       "Loan_Status          0\n",
       "dtype: int64"
      ]
     },
     "execution_count": 22,
     "metadata": {},
     "output_type": "execute_result"
    }
   ],
   "source": [
    "data.isna().sum()"
   ]
  },
  {
   "cell_type": "code",
   "execution_count": 23,
   "id": "e60d702e",
   "metadata": {},
   "outputs": [],
   "source": [
    "#Split the data into input and output"
   ]
  },
  {
   "cell_type": "code",
   "execution_count": 24,
   "id": "9458313c",
   "metadata": {},
   "outputs": [],
   "source": [
    "X=data.iloc[:,1:12].values\n",
    "y=data.iloc[:,12]"
   ]
  },
  {
   "cell_type": "code",
   "execution_count": 25,
   "id": "794cbee0",
   "metadata": {},
   "outputs": [
    {
     "data": {
      "text/plain": [
       "array([['Male', 'No', '0', ..., 360.0, 1.0, 'Urban'],\n",
       "       ['Male', 'Yes', '1', ..., 360.0, 1.0, 'Rural'],\n",
       "       ['Male', 'Yes', '0', ..., 360.0, 1.0, 'Urban'],\n",
       "       ...,\n",
       "       ['Male', 'Yes', '1', ..., 360.0, 1.0, 'Urban'],\n",
       "       ['Male', 'Yes', '2', ..., 360.0, 1.0, 'Urban'],\n",
       "       ['Female', 'No', '0', ..., 360.0, 0.0, 'Semiurban']], dtype=object)"
      ]
     },
     "execution_count": 25,
     "metadata": {},
     "output_type": "execute_result"
    }
   ],
   "source": [
    "X"
   ]
  },
  {
   "cell_type": "code",
   "execution_count": 26,
   "id": "6b2a0890",
   "metadata": {},
   "outputs": [
    {
     "data": {
      "text/plain": [
       "0      Y\n",
       "1      N\n",
       "2      Y\n",
       "3      Y\n",
       "4      Y\n",
       "      ..\n",
       "609    Y\n",
       "610    Y\n",
       "611    Y\n",
       "612    Y\n",
       "613    N\n",
       "Name: Loan_Status, Length: 614, dtype: object"
      ]
     },
     "execution_count": 26,
     "metadata": {},
     "output_type": "execute_result"
    }
   ],
   "source": [
    "y"
   ]
  },
  {
   "cell_type": "code",
   "execution_count": 27,
   "id": "37b6d7fe",
   "metadata": {},
   "outputs": [],
   "source": [
    "#train and test split"
   ]
  },
  {
   "cell_type": "code",
   "execution_count": 28,
   "id": "14829863",
   "metadata": {},
   "outputs": [],
   "source": [
    "from sklearn.model_selection import train_test_split"
   ]
  },
  {
   "cell_type": "code",
   "execution_count": 29,
   "id": "d58e1f5b",
   "metadata": {},
   "outputs": [],
   "source": [
    "X_train,X_test,y_train,y_test=train_test_split(X,y,test_size=0.2,random_state=0)"
   ]
  },
  {
   "cell_type": "code",
   "execution_count": 30,
   "id": "05c4e81c",
   "metadata": {},
   "outputs": [],
   "source": [
    "from sklearn.preprocessing import LabelEncoder"
   ]
  },
  {
   "cell_type": "code",
   "execution_count": 31,
   "id": "5aa0446e",
   "metadata": {},
   "outputs": [],
   "source": [
    "labelencoder = LabelEncoder()"
   ]
  },
  {
   "cell_type": "code",
   "execution_count": 32,
   "id": "f3131760",
   "metadata": {},
   "outputs": [],
   "source": [
    "for i in range(0,5):\n",
    "    X_train[:,i]=labelencoder.fit_transform(X_train[:,i])\n",
    "X_train[:,10]=labelencoder.fit_transform(X_train[:,10])"
   ]
  },
  {
   "cell_type": "code",
   "execution_count": 33,
   "id": "98b9c6c1",
   "metadata": {},
   "outputs": [],
   "source": [
    "labelencoder_y = LabelEncoder()"
   ]
  },
  {
   "cell_type": "code",
   "execution_count": 34,
   "id": "2aaf4425",
   "metadata": {},
   "outputs": [],
   "source": [
    "y_train = labelencoder_y.fit_transform(y_train)"
   ]
  },
  {
   "cell_type": "code",
   "execution_count": 35,
   "id": "8d63bdfd",
   "metadata": {},
   "outputs": [],
   "source": [
    "labelencoder_xt = LabelEncoder()"
   ]
  },
  {
   "cell_type": "code",
   "execution_count": 36,
   "id": "014e63cb",
   "metadata": {},
   "outputs": [],
   "source": [
    "for i in range(0,5):\n",
    "    X_test[:,i]=labelencoder_xt.fit_transform(X_test[:,i])\n",
    "X_test[:,10]=labelencoder_xt.fit_transform(X_test[:,10])"
   ]
  },
  {
   "cell_type": "code",
   "execution_count": 37,
   "id": "f493f011",
   "metadata": {},
   "outputs": [],
   "source": [
    "y_test = labelencoder_y.fit_transform(y_test)"
   ]
  },
  {
   "cell_type": "code",
   "execution_count": 38,
   "id": "1f3ad993",
   "metadata": {},
   "outputs": [
    {
     "data": {
      "text/plain": [
       "array([1, 0, 1, 0, 1, 0, 1, 1, 0, 1, 1, 1, 1, 1, 1, 0, 0, 1, 1, 0, 0, 1,\n",
       "       1, 1, 1, 1, 1, 1, 0, 0, 1, 1, 1, 1, 1, 0, 1, 1, 1, 1, 1, 0, 1, 1,\n",
       "       1, 1, 1, 1, 0, 1, 1, 1, 1, 1, 1, 1, 1, 0, 1, 1, 1, 0, 1, 0, 1, 1,\n",
       "       1, 1, 1, 1, 0, 1, 1, 1, 1, 1, 0, 0, 1, 0, 1, 0, 0, 1, 0, 1, 1, 1,\n",
       "       1, 1, 1, 0, 0, 0, 1, 0, 1, 1, 1, 1, 1, 1, 1, 0, 1, 1, 1, 1, 1, 0,\n",
       "       1, 0, 0, 1, 0, 1, 1, 1, 1, 1, 1, 0, 1])"
      ]
     },
     "execution_count": 38,
     "metadata": {},
     "output_type": "execute_result"
    }
   ],
   "source": [
    "y_test"
   ]
  },
  {
   "cell_type": "code",
   "execution_count": 39,
   "id": "8f5311f2",
   "metadata": {},
   "outputs": [
    {
     "data": {
      "text/plain": [
       "array([[1, 1, 0, ..., 360.0, 1.0, 1],\n",
       "       [1, 0, 1, ..., 360.0, 1.0, 1],\n",
       "       [1, 1, 0, ..., 360.0, 0.0, 0],\n",
       "       ...,\n",
       "       [1, 1, 3, ..., 360.0, 1.0, 1],\n",
       "       [1, 1, 0, ..., 360.0, 1.0, 2],\n",
       "       [0, 1, 0, ..., 360.0, 1.0, 1]], dtype=object)"
      ]
     },
     "execution_count": 39,
     "metadata": {},
     "output_type": "execute_result"
    }
   ],
   "source": [
    "X_train"
   ]
  },
  {
   "cell_type": "code",
   "execution_count": 40,
   "id": "d9e234ea",
   "metadata": {},
   "outputs": [],
   "source": [
    "#Scaling\n",
    "from sklearn.preprocessing import StandardScaler"
   ]
  },
  {
   "cell_type": "code",
   "execution_count": 41,
   "id": "c1603852",
   "metadata": {},
   "outputs": [],
   "source": [
    "sc=StandardScaler()"
   ]
  },
  {
   "cell_type": "code",
   "execution_count": 42,
   "id": "2a31dec6",
   "metadata": {},
   "outputs": [],
   "source": [
    "X_train=sc.fit_transform(X_train)"
   ]
  },
  {
   "cell_type": "code",
   "execution_count": 43,
   "id": "4c036ff7",
   "metadata": {},
   "outputs": [
    {
     "data": {
      "text/plain": [
       "array([[ 0.47374983,  0.71143163, -0.76304669, ...,  0.26983787,\n",
       "         0.41790088, -0.05166631],\n",
       "       [ 0.47374983, -1.40561644,  0.22549137, ...,  0.26983787,\n",
       "         0.41790088, -0.05166631],\n",
       "       [ 0.47374983,  0.71143163, -0.76304669, ...,  0.26983787,\n",
       "        -2.39291191, -1.32007414],\n",
       "       ...,\n",
       "       [ 0.47374983,  0.71143163,  2.2025675 , ...,  0.26983787,\n",
       "         0.41790088, -0.05166631],\n",
       "       [ 0.47374983,  0.71143163, -0.76304669, ...,  0.26983787,\n",
       "         0.41790088,  1.21674153],\n",
       "       [-2.11081869,  0.71143163, -0.76304669, ...,  0.26983787,\n",
       "         0.41790088, -0.05166631]])"
      ]
     },
     "execution_count": 43,
     "metadata": {},
     "output_type": "execute_result"
    }
   ],
   "source": [
    "X_train"
   ]
  },
  {
   "cell_type": "code",
   "execution_count": 44,
   "id": "4e06f77a",
   "metadata": {},
   "outputs": [],
   "source": [
    "X_test = sc.fit_transform(X_test)"
   ]
  },
  {
   "cell_type": "code",
   "execution_count": 45,
   "id": "6ff76796",
   "metadata": {},
   "outputs": [
    {
     "data": {
      "text/plain": [
       "array([[ 0.46671381, -1.25      , -0.64059361, ...,  0.28661682,\n",
       "         0.3866946 , -0.03125   ],\n",
       "       [-2.14264068, -1.25      , -0.64059361, ...,  0.28661682,\n",
       "         0.3866946 , -0.03125   ],\n",
       "       [ 0.46671381,  0.8       , -0.64059361, ...,  0.28661682,\n",
       "         0.3866946 ,  1.25      ],\n",
       "       ...,\n",
       "       [ 0.46671381,  0.8       , -0.64059361, ...,  0.28661682,\n",
       "         0.3866946 , -0.03125   ],\n",
       "       [ 0.46671381,  0.8       ,  2.38990694, ..., -2.33124469,\n",
       "        -2.58602011,  1.25      ],\n",
       "       [ 0.46671381,  0.8       ,  0.36957324, ...,  0.28661682,\n",
       "         0.3866946 ,  1.25      ]])"
      ]
     },
     "execution_count": 45,
     "metadata": {},
     "output_type": "execute_result"
    }
   ],
   "source": [
    "X_test"
   ]
  },
  {
   "cell_type": "code",
   "execution_count": 46,
   "id": "4c811ead",
   "metadata": {},
   "outputs": [],
   "source": [
    "#PCA"
   ]
  },
  {
   "cell_type": "code",
   "execution_count": 47,
   "id": "4dccf05f",
   "metadata": {},
   "outputs": [],
   "source": [
    "from sklearn.decomposition import PCA"
   ]
  },
  {
   "cell_type": "code",
   "execution_count": 48,
   "id": "581f03ea",
   "metadata": {},
   "outputs": [],
   "source": [
    "pca = PCA(n_components=2)"
   ]
  },
  {
   "cell_type": "code",
   "execution_count": 49,
   "id": "8fb9ab5b",
   "metadata": {},
   "outputs": [],
   "source": [
    "X_train=pca.fit_transform(X_train)"
   ]
  },
  {
   "cell_type": "code",
   "execution_count": 50,
   "id": "c275a5a6",
   "metadata": {},
   "outputs": [],
   "source": [
    "X_test=pca.fit_transform(X_test)"
   ]
  },
  {
   "cell_type": "code",
   "execution_count": 51,
   "id": "78c423a6",
   "metadata": {},
   "outputs": [
    {
     "data": {
      "text/plain": [
       "array([[-7.79672585e-02, -4.29236258e-01],\n",
       "       [ 2.24234694e-01,  1.19904811e+00],\n",
       "       [ 1.32038827e-01, -2.37374765e-01],\n",
       "       [-1.68594071e+00,  1.09176943e+00],\n",
       "       [ 7.96884096e-01, -7.17359723e-01],\n",
       "       [ 3.56464475e-01, -5.63670293e-02],\n",
       "       [ 1.68368757e+00, -7.01065176e-01],\n",
       "       [-2.82779167e+00,  5.24376302e-01],\n",
       "       [-4.82004594e-01,  6.60656758e-01],\n",
       "       [-1.56828090e+00,  9.53473464e-01],\n",
       "       [-2.76164172e+00,  1.25262200e+00],\n",
       "       [ 6.30738606e-01, -3.13188759e-01],\n",
       "       [-1.00302298e-01, -6.75692677e-01],\n",
       "       [ 3.59780945e-02, -2.21834269e+00],\n",
       "       [-1.63265596e+00,  1.44534079e+00],\n",
       "       [-1.51238326e+00,  4.19498507e-01],\n",
       "       [-1.50443300e+00,  4.68552102e-01],\n",
       "       [-1.36578373e+00, -2.61635598e-02],\n",
       "       [-1.58811942e-01,  2.70742848e+00],\n",
       "       [-8.63839738e-01, -8.86416432e-01],\n",
       "       [-3.20693451e-02, -5.64013380e-01],\n",
       "       [ 1.99714183e+00,  1.39346174e+00],\n",
       "       [ 2.27720265e+00,  3.16538403e+00],\n",
       "       [-9.22396656e-01,  6.75962664e-01],\n",
       "       [ 1.73173774e+00,  2.78610614e+00],\n",
       "       [-3.53045720e-01,  7.98111446e-02],\n",
       "       [-1.99897661e+00,  1.47043905e+00],\n",
       "       [ 4.68790907e-01, -1.38614290e-01],\n",
       "       [ 2.75207734e-01,  2.83762568e-01],\n",
       "       [-7.05966586e-01,  5.01114859e-01],\n",
       "       [ 2.04096782e-01, -6.48712887e-01],\n",
       "       [-3.03164403e-01, -7.14258337e-01],\n",
       "       [-9.93461727e-01,  5.45533733e-01],\n",
       "       [ 3.43892278e-01,  1.76208054e-01],\n",
       "       [-1.59407077e+00,  2.06356563e+00],\n",
       "       [-2.40423255e+00,  1.30822178e+00],\n",
       "       [-1.20183740e+00,  4.85744773e-02],\n",
       "       [-2.24211026e+00,  9.46729582e-01],\n",
       "       [ 3.45694343e-01, -8.44858977e-01],\n",
       "       [-1.02076131e+00,  8.29654848e-01],\n",
       "       [ 7.61422640e-01, -2.61590305e+00],\n",
       "       [ 5.15294985e-01, -1.49862538e+00],\n",
       "       [-7.72074188e-01, -1.46068881e+00],\n",
       "       [ 3.43455316e-01,  3.87966629e-01],\n",
       "       [-2.69577745e+00,  5.83211195e-01],\n",
       "       [ 1.34262833e+00, -6.13929957e-01],\n",
       "       [ 5.88325740e-01, -9.06953130e-01],\n",
       "       [-1.16744282e+00,  2.37906468e+00],\n",
       "       [ 1.79637116e+00, -1.14201080e+00],\n",
       "       [-1.46330244e+00,  1.81973537e+00],\n",
       "       [-1.15108619e-01, -3.10524136e-01],\n",
       "       [-1.65817606e+00,  2.28480217e+00],\n",
       "       [-1.51011532e+00, -2.32092149e-01],\n",
       "       [-1.99893104e+00,  1.06659728e+00],\n",
       "       [-1.89078932e-01, -4.43121401e-01],\n",
       "       [ 2.18821494e+00,  2.53739667e+00],\n",
       "       [-1.53184911e+00,  4.39227692e-01],\n",
       "       [-9.74691355e-02, -6.23382068e-01],\n",
       "       [ 1.25508062e+00, -1.18370411e+00],\n",
       "       [-1.66696165e+00,  4.41761233e-01],\n",
       "       [ 2.36330601e-02, -1.25099005e-01],\n",
       "       [-1.16463583e+00,  6.88242501e-01],\n",
       "       [ 7.05240001e-01,  1.53188736e+00],\n",
       "       [ 4.19279910e-01, -1.02580935e+00],\n",
       "       [-2.65773971e-01, -4.92581191e-01],\n",
       "       [ 4.03491555e-01, -5.92543101e-01],\n",
       "       [ 2.68727804e+00,  3.61474819e-01],\n",
       "       [ 5.94035826e-01, -1.00975229e+00],\n",
       "       [ 1.09618834e+00,  8.59081528e-01],\n",
       "       [-2.59053519e-01, -4.50275367e-01],\n",
       "       [-2.53422952e-01, -1.20650453e+00],\n",
       "       [-4.67244938e-01, -1.25457399e+00],\n",
       "       [ 1.11994342e+00, -6.01569077e-01],\n",
       "       [-3.24986958e-01, -8.54734974e-01],\n",
       "       [ 7.76815248e+00,  4.11790772e+00],\n",
       "       [-8.82088132e-03, -3.60080654e-01],\n",
       "       [-7.61576674e-01,  2.23561489e+00],\n",
       "       [-4.46564237e-01, -1.02316740e+00],\n",
       "       [-4.88450356e-01,  6.75588517e-01],\n",
       "       [-4.42254902e-01, -1.26217988e+00],\n",
       "       [-7.83094603e-02, -2.69670955e+00],\n",
       "       [ 4.00410308e+00,  2.26429046e+00],\n",
       "       [ 1.25705063e+00, -1.30898079e+00],\n",
       "       [ 7.53751149e-01, -6.29958895e-02],\n",
       "       [ 6.81627930e-01, -2.07197377e+00],\n",
       "       [ 4.33161220e-02, -3.25603104e-01],\n",
       "       [ 5.44931517e-01, -8.26564081e-01],\n",
       "       [ 9.95241476e-01,  2.67617754e-02],\n",
       "       [ 6.32334307e+00,  4.45203106e+00],\n",
       "       [-2.21855584e+00,  1.60333238e+00],\n",
       "       [-1.24372805e-01, -1.19027390e+00],\n",
       "       [-2.04505267e-01, -1.41401668e+00],\n",
       "       [-2.56484180e+00,  6.95119199e-01],\n",
       "       [-1.65820120e-01, -4.14147706e-01],\n",
       "       [-6.11480269e-02, -1.23019092e+00],\n",
       "       [ 1.33218704e-01, -1.67997650e+00],\n",
       "       [ 1.76414249e+00, -2.33809399e+00],\n",
       "       [-3.51097778e-01, -4.26499171e-01],\n",
       "       [-5.16422808e-01, -6.06023693e-01],\n",
       "       [ 1.02130259e+00,  1.64609947e-01],\n",
       "       [ 2.25158072e-01, -6.75279141e-02],\n",
       "       [ 3.77540221e+00,  1.18794809e+00],\n",
       "       [ 3.54102713e+00,  1.93631464e+00],\n",
       "       [ 5.19152909e-01,  5.42969205e-01],\n",
       "       [ 7.64326319e+00,  4.95505809e+00],\n",
       "       [-1.67235204e+00,  1.98714160e+00],\n",
       "       [-2.13900790e-01,  2.24079135e-01],\n",
       "       [ 2.44706207e-01, -6.05560052e-01],\n",
       "       [ 8.35839729e-02, -8.30759526e-01],\n",
       "       [-5.27704461e-01,  9.02710007e-01],\n",
       "       [-3.57744625e-03, -7.79995107e-02],\n",
       "       [ 9.80616740e-01, -6.45790617e-01],\n",
       "       [-6.46749603e-01,  3.57183263e-01],\n",
       "       [ 1.25603832e+00, -1.12039101e+00],\n",
       "       [ 9.03252144e-01,  6.35036961e-01],\n",
       "       [-1.74926077e+00,  4.72974349e-02],\n",
       "       [ 1.69936097e+00,  5.68347204e-02],\n",
       "       [-1.69689924e+00,  1.73566987e+00],\n",
       "       [ 1.35868837e+00, -8.15501965e-01],\n",
       "       [ 1.31585516e-01, -2.26221974e+00],\n",
       "       [ 2.57887995e-01, -1.59425694e+00],\n",
       "       [ 6.66094808e+00,  2.50034844e+00],\n",
       "       [ 4.93146766e-02, -3.13524149e-01],\n",
       "       [ 2.97464211e+00,  2.34059648e+00],\n",
       "       [-6.02328445e-01,  6.89055312e-01],\n",
       "       [-7.81924919e-01, -7.15755648e-01],\n",
       "       [-4.33036700e-01, -9.27629698e-01],\n",
       "       [-7.73182645e-03, -1.82579239e+00],\n",
       "       [ 1.43490486e+00,  2.20459507e+00],\n",
       "       [ 8.11538078e-01, -3.68060509e-01],\n",
       "       [-2.39069424e+00,  1.42714079e+00],\n",
       "       [-1.61653759e+00,  1.76486890e+00],\n",
       "       [ 6.58831628e-01,  3.86910626e-01],\n",
       "       [ 7.14168488e-01, -2.42917598e+00],\n",
       "       [ 5.89757833e-01, -6.73661259e-01],\n",
       "       [ 2.15882421e+00,  5.76975587e-01],\n",
       "       [-1.21352635e-01, -1.62038372e+00],\n",
       "       [-4.42239583e-01, -5.55975627e-01],\n",
       "       [-1.50700034e-01, -5.37880777e-01],\n",
       "       [ 4.70880825e-01, -9.53053539e-01],\n",
       "       [-8.14317427e-01,  3.99788556e-01],\n",
       "       [-1.74390021e+00,  7.69314520e-01],\n",
       "       [-4.25734858e-01,  1.30669844e+00],\n",
       "       [-6.72936968e-01, -1.34268386e+00],\n",
       "       [-1.63109202e+00,  3.69154778e-01],\n",
       "       [-1.42579848e+00, -3.88187631e-01],\n",
       "       [-1.84375408e+00,  2.42945851e+00],\n",
       "       [-6.26604570e-02, -5.00821219e-01],\n",
       "       [-2.43404815e-01,  6.14120782e-01],\n",
       "       [ 1.45903131e+00, -6.88792706e-01],\n",
       "       [ 1.83410669e+00, -1.62207135e-01],\n",
       "       [ 3.06415425e-01, -9.15543564e-01],\n",
       "       [ 2.65459759e-01, -1.21819839e+00],\n",
       "       [ 8.48244704e-01, -7.33386542e-01],\n",
       "       [ 3.35991605e-02, -9.23805477e-01],\n",
       "       [-1.63539833e+00,  3.85699156e-01],\n",
       "       [ 3.86331889e-01, -1.75724434e+00],\n",
       "       [ 3.02370037e+00,  1.02165558e+00],\n",
       "       [-1.07449578e+00,  4.83096732e-01],\n",
       "       [-1.12292237e+00,  3.65136677e-01],\n",
       "       [-1.00592725e+00,  5.20976997e-01],\n",
       "       [-1.98311900e+00,  1.72214476e+00],\n",
       "       [-1.08226252e-01, -1.51089432e-01],\n",
       "       [-5.15512153e-01,  7.29749090e-01],\n",
       "       [-1.18372310e-01,  2.00719011e-01],\n",
       "       [ 2.02051748e+00, -3.32037837e-01],\n",
       "       [ 4.28467322e-01, -1.80013177e+00],\n",
       "       [-8.78661403e-01,  9.21169607e-01],\n",
       "       [ 1.55025419e+00, -3.63780694e-02],\n",
       "       [-5.86052429e-01, -6.19343023e-01],\n",
       "       [ 1.31168486e+00,  4.88552788e-01],\n",
       "       [-9.86539788e-02, -3.96439267e-01],\n",
       "       [ 2.29388219e+00,  1.54324845e-01],\n",
       "       [-7.48338088e-01,  9.87221786e-01],\n",
       "       [ 2.21490736e+00, -1.30272411e-01],\n",
       "       [ 2.43002769e+00, -8.07852974e-01],\n",
       "       [-1.26338013e+00, -3.67049763e-02],\n",
       "       [ 4.77202286e-01, -5.84422298e-01],\n",
       "       [-5.35640963e-01, -1.31863519e+00],\n",
       "       [ 4.94575561e-01, -8.38620649e-02],\n",
       "       [ 8.83372286e-01,  8.37538424e-01],\n",
       "       [-1.53354465e+00,  4.28318038e-01],\n",
       "       [ 9.25993125e-01, -4.44921566e-01],\n",
       "       [-2.74368679e-01, -3.36056005e-01],\n",
       "       [-7.27926336e-01, -5.96356866e-01],\n",
       "       [ 1.63729055e-01, -2.35970495e-01],\n",
       "       [ 4.30134338e-01, -5.60297751e-02],\n",
       "       [ 5.45765556e-01, -1.44091091e-01],\n",
       "       [-2.99197013e-01, -2.40656264e-01],\n",
       "       [ 4.47614365e-01, -8.31845793e-01],\n",
       "       [-1.30536276e+00,  5.14698843e-01],\n",
       "       [ 1.89729630e+00, -2.98398167e-01],\n",
       "       [-8.33176303e-01, -1.40242779e+00],\n",
       "       [-1.98449876e-01, -2.07927105e+00],\n",
       "       [-1.58089307e+00,  1.45512599e+00],\n",
       "       [ 5.12295727e-01, -3.40660199e-01],\n",
       "       [ 1.17517432e-01, -9.15049470e-01],\n",
       "       [-1.20958336e+00,  5.90643268e-02],\n",
       "       [ 5.26854035e-01, -5.27309622e-01],\n",
       "       [-2.96297810e-01,  1.40066231e+00],\n",
       "       [-7.70858028e-01,  7.88213832e-01],\n",
       "       [-1.56593125e+00,  1.98900047e-01],\n",
       "       [ 1.53919470e+00, -5.92183807e-01],\n",
       "       [ 7.59469888e-02, -7.45347508e-01],\n",
       "       [ 1.66900934e+00,  4.01641986e-02],\n",
       "       [ 6.68824857e-01, -9.25262300e-01],\n",
       "       [ 2.69635387e-01, -4.75038824e-01],\n",
       "       [-5.65787751e-02, -7.19726432e-01],\n",
       "       [ 3.68551740e+00,  4.32421989e-01],\n",
       "       [ 1.17184850e+00, -3.14543792e-01],\n",
       "       [-2.38906042e+00,  1.48578309e+00],\n",
       "       [-2.10311981e+00,  1.58519189e+00],\n",
       "       [-3.20335774e-01, -6.29831850e-01],\n",
       "       [-1.09035082e+00,  7.15245074e-01],\n",
       "       [ 3.59414867e-02, -4.43649154e-01],\n",
       "       [-8.17946484e-01,  9.00865747e-01],\n",
       "       [-2.07021316e+00,  5.24356386e-01],\n",
       "       [-5.13377645e-02, -3.97800880e-01],\n",
       "       [-9.75510767e-01,  6.19626646e-01],\n",
       "       [-1.01716809e+00,  4.15505435e-01],\n",
       "       [-8.61668845e-01,  8.41384164e-01],\n",
       "       [-1.42670604e+00, -3.01553598e-01],\n",
       "       [ 7.88352324e-01,  4.57866483e-01],\n",
       "       [ 3.90324556e+00,  3.93752992e+00],\n",
       "       [ 2.93201462e+00, -9.79614533e-01],\n",
       "       [ 2.32984578e-01, -1.78861891e+00],\n",
       "       [ 1.44529909e+00, -1.89036298e+00],\n",
       "       [ 2.26054874e+00,  6.37753463e-01],\n",
       "       [-1.72497308e+00,  1.87234139e+00],\n",
       "       [-1.56243016e-01, -2.92617582e-02],\n",
       "       [ 8.71487942e-01, -1.92214721e+00],\n",
       "       [ 5.58553546e-01, -9.11827066e-01],\n",
       "       [ 1.18735872e+00, -8.12838449e-01],\n",
       "       [ 4.17748199e-02,  8.06939847e-01],\n",
       "       [-2.86263795e-01,  1.31620571e+00],\n",
       "       [ 1.81492652e-01, -2.18160193e+00],\n",
       "       [ 7.65546474e-01, -3.43634520e-01],\n",
       "       [-3.83389314e-01, -9.15013592e-01],\n",
       "       [-1.05367659e+00,  7.60621248e-01],\n",
       "       [-9.63899382e-01, -1.44015231e+00],\n",
       "       [ 1.18935401e+00,  2.45920119e-01],\n",
       "       [ 2.96165736e-01, -1.10267899e+00],\n",
       "       [ 5.58607982e-01, -4.93352632e-01],\n",
       "       [ 3.58811914e-01, -1.10388606e+00],\n",
       "       [-2.70738275e+00,  6.03756625e-01],\n",
       "       [-1.71749983e+00,  8.15447134e-01],\n",
       "       [ 2.07948621e-01, -1.81154076e+00],\n",
       "       [-1.50054504e+00, -2.22662003e-01],\n",
       "       [-2.10384009e+00,  1.64938605e+00],\n",
       "       [ 5.35470678e-01, -3.62963278e-01],\n",
       "       [ 5.57082789e-01, -3.96940570e-01],\n",
       "       [-1.65005100e+00, -1.14571342e+00],\n",
       "       [-1.23642414e+00,  7.13907535e-01],\n",
       "       [-1.62130641e+00,  3.46816292e-01],\n",
       "       [ 7.65652728e-01,  2.30682425e+00],\n",
       "       [-5.18925238e-01, -4.69868750e-01],\n",
       "       [-1.75362128e+00, -6.92648090e-01],\n",
       "       [ 2.90989436e-02, -3.10543648e-01],\n",
       "       [-3.51405401e-01, -3.14842054e-01],\n",
       "       [ 8.41651417e-03,  1.40964536e+00],\n",
       "       [-1.30502110e+00, -3.53502504e-01],\n",
       "       [ 5.97034315e-02, -1.06121239e+00],\n",
       "       [-2.31812803e-01, -3.98993061e-01],\n",
       "       [-2.72260934e-01,  1.35931909e+00],\n",
       "       [-1.91351667e-02, -3.74998821e-01],\n",
       "       [-2.01633926e-01, -6.63496303e-01],\n",
       "       [-4.09581416e-01,  1.36335260e+00],\n",
       "       [-2.46220887e+00,  1.37977067e+00],\n",
       "       [ 6.05878266e-01, -1.22678832e+00],\n",
       "       [-3.48735477e-01,  1.52772827e+00],\n",
       "       [-2.39967360e+00,  1.49149347e+00],\n",
       "       [ 4.23457656e-01, -9.60141476e-01],\n",
       "       [-1.22466471e+00,  6.47570488e-01],\n",
       "       [ 1.80490640e-01, -1.92078792e-01],\n",
       "       [-1.28786721e+00,  6.12654752e-01],\n",
       "       [-1.98961402e-01,  1.45890506e+00],\n",
       "       [ 3.08359385e-01, -9.25408015e-01],\n",
       "       [-1.74523934e+00,  1.88760470e+00],\n",
       "       [-2.47917360e-01, -4.63663030e-01],\n",
       "       [-6.07388502e-01,  6.57762231e-01],\n",
       "       [ 4.58299376e-01, -1.99161690e+00],\n",
       "       [ 3.56318790e-01, -2.58741063e+00],\n",
       "       [ 8.53191366e-01, -1.15303982e+00],\n",
       "       [-2.83065290e-01, -4.68385356e-01],\n",
       "       [-4.70976718e-01,  7.77108929e-01],\n",
       "       [-1.05706246e+00,  1.11255984e+00],\n",
       "       [ 6.96540514e-01, -1.13976332e+00],\n",
       "       [-6.13542997e-01,  4.81079775e-01],\n",
       "       [ 1.51145252e+00, -6.33451381e-01],\n",
       "       [ 8.07572426e-01, -1.18872718e+00],\n",
       "       [ 4.17472193e-01, -6.11080642e-01],\n",
       "       [-1.02398143e-01, -3.23226796e-01],\n",
       "       [ 1.08007793e-01, -1.74263292e+00],\n",
       "       [-1.32425060e+00,  5.86043049e-01],\n",
       "       [ 1.02164081e+00, -1.25854117e-02],\n",
       "       [ 5.16206564e-01, -2.57253876e-01],\n",
       "       [ 7.79291323e-01,  2.62396084e-01],\n",
       "       [-2.43359854e+00,  7.74568814e-01],\n",
       "       [ 4.71637698e-01,  1.90998032e+00],\n",
       "       [ 1.62951414e+00,  6.87840176e-01],\n",
       "       [-1.69278514e-02, -1.46713400e-01],\n",
       "       [ 4.07085892e+00,  9.87450860e-01],\n",
       "       [-3.56325741e-01, -2.17242592e+00],\n",
       "       [-9.24580848e-01,  6.41889535e-01],\n",
       "       [ 4.19535103e-01, -2.08781193e+00],\n",
       "       [-1.20226417e+00, -1.57082649e+00],\n",
       "       [ 8.53152676e-01, -3.22961717e-01],\n",
       "       [-5.10811870e-02, -3.89373640e-01],\n",
       "       [-5.56537353e-01, -1.10150367e+00],\n",
       "       [ 1.38132632e-01, -1.66625109e+00],\n",
       "       [ 2.85914881e-01, -6.02463038e-01],\n",
       "       [ 6.01654829e-01, -1.85936820e+00],\n",
       "       [ 1.72421385e+00,  6.64424825e-01],\n",
       "       [ 4.70576325e-01, -5.78423411e-01],\n",
       "       [ 4.11446690e-01,  1.30381659e+00],\n",
       "       [-2.83153467e-01, -5.54684855e-01],\n",
       "       [-6.98199135e-01, -1.50275789e+00],\n",
       "       [-8.86948765e-01, -1.07158334e+00],\n",
       "       [ 3.81699445e-01,  1.40610216e-01],\n",
       "       [ 4.63890145e-01, -1.60560656e-02],\n",
       "       [ 5.11964429e-01, -4.05864723e-01],\n",
       "       [-8.77739841e-01,  7.11761624e-01],\n",
       "       [-1.06052672e+00,  8.22556771e-01],\n",
       "       [ 1.27554163e+00, -9.84442101e-01],\n",
       "       [-1.66492252e+00, -5.50254077e-01],\n",
       "       [ 3.41052324e-01,  1.89998969e+00],\n",
       "       [-1.42361768e+00,  5.25086732e-01],\n",
       "       [ 2.71486369e-01, -9.36102754e-01],\n",
       "       [-1.25402089e+00, -6.92734255e-01],\n",
       "       [ 1.21064619e+00, -1.56393841e+00],\n",
       "       [ 1.56057704e+00, -5.16154965e-01],\n",
       "       [ 1.44657347e+00,  5.61892656e-01],\n",
       "       [ 9.54876920e-01,  5.02061418e-01],\n",
       "       [-1.06826161e+00,  3.85882633e-01],\n",
       "       [-1.24300601e-01, -3.86637722e-01],\n",
       "       [-8.77943235e-01,  7.97631229e-01],\n",
       "       [-2.38776683e+00,  1.49896193e+00],\n",
       "       [-1.14045018e+00,  1.27089281e+00],\n",
       "       [-1.88154944e-01,  3.84257946e-01],\n",
       "       [-1.42803595e+00,  1.57731707e+00],\n",
       "       [-1.74773708e+00,  1.40354657e+00],\n",
       "       [ 9.31868403e-01,  6.09754757e-01],\n",
       "       [ 9.24786602e-01,  3.24489024e-01],\n",
       "       [ 7.96286434e-01, -1.01466641e-01],\n",
       "       [-1.82342601e-01, -8.51554196e-01],\n",
       "       [-2.00224060e+00,  1.59891756e+00],\n",
       "       [ 4.17182903e-01, -2.04771272e+00],\n",
       "       [ 4.51114305e-02, -1.57618552e+00],\n",
       "       [-1.16308198e+00,  6.31798919e-01],\n",
       "       [ 1.10463169e+00,  8.83213901e-01],\n",
       "       [-9.56170742e-01,  8.56343873e-01],\n",
       "       [-1.27787686e-01, -2.25116753e-01],\n",
       "       [-6.30765453e-01, -1.38662128e+00],\n",
       "       [-1.82334143e-02,  1.53109600e+00],\n",
       "       [-1.07174276e+00, -9.84322110e-01],\n",
       "       [ 4.92317422e-01,  1.37308339e+00],\n",
       "       [-1.32186083e+00,  5.42558600e-01],\n",
       "       [ 4.18832996e-02, -1.77048927e+00],\n",
       "       [-7.59724020e-01,  2.38750861e+00],\n",
       "       [ 1.41236967e+00, -1.47274916e+00],\n",
       "       [ 3.72631384e+00,  1.66132706e+00],\n",
       "       [ 3.19047757e-01, -1.70610289e+00],\n",
       "       [-1.42134172e+00,  2.26272395e+00],\n",
       "       [-2.28481567e-01, -2.33136374e+00],\n",
       "       [ 1.81084038e+00,  2.16784445e-01],\n",
       "       [ 7.64479308e-01, -1.38456533e+00],\n",
       "       [-2.57182521e+00,  1.39115467e+00],\n",
       "       [-4.94174290e-01, -6.10238785e-01],\n",
       "       [-1.66650456e+00,  1.62003406e+00],\n",
       "       [ 4.79826722e-01, -1.12196296e+00],\n",
       "       [-3.94794739e-02, -2.42120295e-01],\n",
       "       [ 2.30424623e-01, -1.83116798e+00],\n",
       "       [-1.71557324e+00,  9.09335670e-01],\n",
       "       [ 9.74280254e-03,  9.79232580e-01],\n",
       "       [-8.99809558e-01,  6.02486159e-01],\n",
       "       [-1.95435155e-01, -5.36186003e-01],\n",
       "       [-9.90794674e-01,  6.94920078e-01],\n",
       "       [ 7.92961893e-01, -3.57206216e-02],\n",
       "       [-1.73196983e+00,  1.38674663e+00],\n",
       "       [-1.74343278e+00,  1.24783873e+00],\n",
       "       [-2.22628022e-01, -7.87340867e-01],\n",
       "       [ 6.49080589e-02, -4.97866069e-01],\n",
       "       [-1.67329612e+00, -1.45355079e+00],\n",
       "       [-5.90670850e-01, -1.32535104e+00],\n",
       "       [ 1.77831952e+00,  1.05156905e+00],\n",
       "       [-2.07839372e+00,  1.64940823e+00],\n",
       "       [-8.35574739e-02,  1.07234152e-01],\n",
       "       [-1.37183649e+00,  1.80031987e+00],\n",
       "       [ 5.60276393e-01, -4.14906435e-01],\n",
       "       [ 8.02811927e-01, -1.95916429e+00],\n",
       "       [ 9.97348134e-01, -4.65280192e-01],\n",
       "       [-1.18371908e+00,  7.51626934e-01],\n",
       "       [ 7.66423944e-01, -5.98545131e-01],\n",
       "       [-2.34885548e-01, -4.62105152e-01],\n",
       "       [ 1.05838586e-01, -7.29443796e-01],\n",
       "       [ 5.02773581e-02, -8.52028642e-01],\n",
       "       [-2.21431463e-01, -1.07497191e+00],\n",
       "       [-1.92333225e-01,  9.05663679e-01],\n",
       "       [-1.98843625e+00,  1.73769300e+00],\n",
       "       [-1.96126587e+00,  1.53922300e+00],\n",
       "       [ 3.87717267e-01, -1.03699635e+00],\n",
       "       [-3.11015272e-02, -3.24771210e-01],\n",
       "       [ 7.72928567e-02, -1.89971460e+00],\n",
       "       [-4.12976381e-01, -5.32194563e-01],\n",
       "       [ 8.67552277e-01, -1.34973173e-01],\n",
       "       [-1.67001495e+00,  2.18260637e-01],\n",
       "       [ 9.64089308e-02,  5.21481248e-02],\n",
       "       [-1.10712894e+00,  6.87163945e-01],\n",
       "       [-7.11096408e-01,  2.49916189e+00],\n",
       "       [ 1.51393179e-01, -1.03364986e+00],\n",
       "       [-3.33441817e-01, -1.80256727e+00],\n",
       "       [-1.89707352e-01, -2.01706385e-01],\n",
       "       [ 3.62640344e+00,  4.78414825e+00],\n",
       "       [ 2.64802464e-01, -1.84381333e+00],\n",
       "       [-4.67312294e-02, -1.45183708e-01],\n",
       "       [-9.80035442e-01,  2.81110106e+00],\n",
       "       [ 6.98706735e-01, -8.43187897e-01],\n",
       "       [-3.24373300e-01,  1.44779557e+00],\n",
       "       [ 5.52247300e-02,  3.93978038e-01],\n",
       "       [ 5.98842646e-01, -1.69254082e-01],\n",
       "       [-4.33341548e-01, -1.32749840e+00],\n",
       "       [ 5.69798403e-01, -8.82948617e-01],\n",
       "       [-1.24424014e+00, -4.88723344e-02],\n",
       "       [-2.28385431e+00,  6.73353946e-01],\n",
       "       [-9.57880544e-01,  8.91614894e-01],\n",
       "       [ 1.94671459e+00,  1.59481462e+00],\n",
       "       [ 1.23883688e+00, -2.36987600e-01],\n",
       "       [-1.62825896e+00, -2.89163752e-01],\n",
       "       [-3.77767643e-01, -4.27221468e-01],\n",
       "       [ 1.29861020e+00, -3.97178021e-01],\n",
       "       [-2.10730979e-01, -4.39133661e-01],\n",
       "       [ 1.16906779e+00, -4.83231172e-01],\n",
       "       [-1.43744237e+00,  3.02274550e-01],\n",
       "       [-3.34212820e-02, -3.88252770e-02],\n",
       "       [ 2.74236883e+00,  3.31722340e-01],\n",
       "       [-1.51010016e-01, -1.41996026e+00],\n",
       "       [-1.72878826e-01, -1.24884615e+00],\n",
       "       [-1.38924615e+00, -3.03320961e-01],\n",
       "       [ 1.73557562e+00, -1.34723273e+00],\n",
       "       [-1.30403391e-01,  1.95740134e-01],\n",
       "       [-4.94059264e-01,  2.42992311e+00],\n",
       "       [-6.49936551e-01,  2.75597259e+00],\n",
       "       [ 6.13434383e-01, -7.51835561e-01],\n",
       "       [-3.92927019e-02, -3.60646391e-01],\n",
       "       [ 8.97730847e-01, -1.06002621e+00],\n",
       "       [ 7.24155246e-01, -1.09869451e+00],\n",
       "       [-4.19038466e-01, -5.02393970e-01],\n",
       "       [ 8.83760630e-03, -9.34219024e-01],\n",
       "       [-6.97445607e-01, -5.33754870e-01],\n",
       "       [-1.54918575e-01, -4.19540950e-01],\n",
       "       [ 3.75433444e-01, -7.50032015e-02],\n",
       "       [-2.72790167e-02, -3.44894380e-01],\n",
       "       [ 1.45576201e+00, -2.21277118e-01],\n",
       "       [ 1.31075776e+00, -1.39346873e-01],\n",
       "       [ 5.62653885e-01, -7.09607287e-01],\n",
       "       [-7.45213001e-01,  6.69179489e-01],\n",
       "       [ 1.95426835e+00, -2.93428038e-01],\n",
       "       [-2.19984043e+00, -6.56048280e-01],\n",
       "       [ 2.98763118e+00,  1.98822927e+00],\n",
       "       [ 2.69956976e-01,  1.81935260e-01],\n",
       "       [-1.49196378e+00, -3.39923544e-01],\n",
       "       [ 6.76697199e-01,  7.67966291e-02],\n",
       "       [-3.43288749e-01, -1.36782027e+00],\n",
       "       [-1.82292268e-01, -1.60123769e+00],\n",
       "       [-1.56553578e+00, -2.07618829e-01],\n",
       "       [-6.43577395e-01,  6.48701402e-01],\n",
       "       [-1.94457187e+00,  1.77167615e+00],\n",
       "       [ 4.08164819e-01, -4.25754459e-01],\n",
       "       [-5.71585100e-01, -1.11118372e+00],\n",
       "       [ 4.13647333e+00, -7.75863596e-02],\n",
       "       [-1.15324962e-01, -5.40165143e-01],\n",
       "       [ 8.35893092e-01, -8.24703458e-01],\n",
       "       [-9.28306124e-01,  8.05749190e-01],\n",
       "       [ 1.55852833e+00, -2.61598530e-01],\n",
       "       [-1.28830749e+00,  2.90332525e-01],\n",
       "       [-4.79249837e-01,  7.08175467e-02],\n",
       "       [-1.98439899e-01, -7.65884107e-01],\n",
       "       [-3.31458385e-01, -5.26230905e-01],\n",
       "       [-1.58600470e-01, -1.62462569e+00],\n",
       "       [-5.44270492e-01, -3.93215398e-02],\n",
       "       [ 2.70921857e-02, -3.09387666e-01],\n",
       "       [-2.24228875e+00,  1.55395310e+00],\n",
       "       [ 3.48969354e+00, -1.08861160e+00],\n",
       "       [ 7.57671491e-01, -1.12074720e+00],\n",
       "       [ 1.74199807e-01, -2.53435386e-01],\n",
       "       [ 1.00546215e+00, -4.07247520e-01],\n",
       "       [-5.30534622e-01, -5.31154239e-01],\n",
       "       [ 2.87454499e+00,  4.03013538e-01],\n",
       "       [ 1.63263381e+00, -8.55767117e-01],\n",
       "       [-2.66709650e-01, -8.25869699e-01],\n",
       "       [-5.25129065e-01,  9.63012642e-01]])"
      ]
     },
     "execution_count": 51,
     "metadata": {},
     "output_type": "execute_result"
    }
   ],
   "source": [
    "X_train"
   ]
  },
  {
   "cell_type": "code",
   "execution_count": 52,
   "id": "88d7dcbb",
   "metadata": {},
   "outputs": [],
   "source": [
    "#Classification\n",
    "#logistic regression\n",
    "#nearesr neighbhor\n",
    "#SVM"
   ]
  },
  {
   "cell_type": "code",
   "execution_count": 53,
   "id": "b9b3f454",
   "metadata": {},
   "outputs": [],
   "source": [
    "#Logistic Regression\n",
    "from sklearn.linear_model import LogisticRegression"
   ]
  },
  {
   "cell_type": "code",
   "execution_count": 54,
   "id": "ee72514b",
   "metadata": {},
   "outputs": [],
   "source": [
    "lrclf = LogisticRegression(max_iter=100,random_state=0)"
   ]
  },
  {
   "cell_type": "code",
   "execution_count": 55,
   "id": "3e174a4d",
   "metadata": {},
   "outputs": [
    {
     "data": {
      "text/plain": [
       "LogisticRegression(random_state=0)"
      ]
     },
     "execution_count": 55,
     "metadata": {},
     "output_type": "execute_result"
    }
   ],
   "source": [
    "lrclf.fit(X_train,y_train)"
   ]
  },
  {
   "cell_type": "code",
   "execution_count": 56,
   "id": "52715d38",
   "metadata": {},
   "outputs": [
    {
     "data": {
      "text/plain": [
       "array([1, 1, 1, 1, 1, 1, 1, 1, 1, 1, 1, 1, 1, 1, 1, 1, 1, 1, 1, 1, 1, 1,\n",
       "       1, 1, 1, 1, 1, 1, 1, 1, 1, 1, 1, 1, 1, 1, 1, 1, 1, 1, 1, 1, 1, 1,\n",
       "       1, 1, 1, 1, 1, 1, 1, 1, 1, 1, 1, 1, 1, 1, 1, 1, 1, 1, 1, 1, 1, 1,\n",
       "       1, 1, 1, 1, 1, 1, 1, 1, 1, 1, 1, 1, 1, 1, 1, 1, 1, 1, 1, 1, 1, 1,\n",
       "       1, 1, 1, 1, 1, 1, 1, 1, 1, 1, 1, 1, 1, 1, 1, 1, 1, 1, 1, 1, 1, 1,\n",
       "       1, 1, 1, 1, 1, 1, 1, 1, 1, 1, 1, 1, 1])"
      ]
     },
     "execution_count": 56,
     "metadata": {},
     "output_type": "execute_result"
    }
   ],
   "source": [
    "lrclf.predict(X_test)"
   ]
  },
  {
   "cell_type": "code",
   "execution_count": 57,
   "id": "c0446898",
   "metadata": {},
   "outputs": [],
   "source": [
    "y_pred=lrclf.predict(X_test)"
   ]
  },
  {
   "cell_type": "code",
   "execution_count": 58,
   "id": "b80e255c",
   "metadata": {},
   "outputs": [
    {
     "data": {
      "text/plain": [
       "array([1, 0, 1, 0, 1, 0, 1, 1, 0, 1, 1, 1, 1, 1, 1, 0, 0, 1, 1, 0, 0, 1,\n",
       "       1, 1, 1, 1, 1, 1, 0, 0, 1, 1, 1, 1, 1, 0, 1, 1, 1, 1, 1, 0, 1, 1,\n",
       "       1, 1, 1, 1, 0, 1, 1, 1, 1, 1, 1, 1, 1, 0, 1, 1, 1, 0, 1, 0, 1, 1,\n",
       "       1, 1, 1, 1, 0, 1, 1, 1, 1, 1, 0, 0, 1, 0, 1, 0, 0, 1, 0, 1, 1, 1,\n",
       "       1, 1, 1, 0, 0, 0, 1, 0, 1, 1, 1, 1, 1, 1, 1, 0, 1, 1, 1, 1, 1, 0,\n",
       "       1, 0, 0, 1, 0, 1, 1, 1, 1, 1, 1, 0, 1])"
      ]
     },
     "execution_count": 58,
     "metadata": {},
     "output_type": "execute_result"
    }
   ],
   "source": [
    "y_test"
   ]
  },
  {
   "cell_type": "code",
   "execution_count": 59,
   "id": "b2f2c263",
   "metadata": {},
   "outputs": [],
   "source": [
    "from sklearn import metrics"
   ]
  },
  {
   "cell_type": "code",
   "execution_count": 60,
   "id": "00b59260",
   "metadata": {},
   "outputs": [
    {
     "data": {
      "text/plain": [
       "0.7317073170731707"
      ]
     },
     "execution_count": 60,
     "metadata": {},
     "output_type": "execute_result"
    }
   ],
   "source": [
    "metrics.accuracy_score(y_test,y_pred)"
   ]
  },
  {
   "cell_type": "code",
   "execution_count": 61,
   "id": "b7879dba",
   "metadata": {},
   "outputs": [],
   "source": [
    "cm=metrics.confusion_matrix(y_test,y_pred)"
   ]
  },
  {
   "cell_type": "code",
   "execution_count": 62,
   "id": "0dd88531",
   "metadata": {},
   "outputs": [
    {
     "data": {
      "text/plain": [
       "array([[ 0, 33],\n",
       "       [ 0, 90]], dtype=int64)"
      ]
     },
     "execution_count": 62,
     "metadata": {},
     "output_type": "execute_result"
    }
   ],
   "source": [
    "cm"
   ]
  },
  {
   "cell_type": "code",
   "execution_count": 63,
   "id": "dffb3b1d",
   "metadata": {},
   "outputs": [
    {
     "data": {
      "text/plain": [
       "<matplotlib.collections.PathCollection at 0x2182c0ac430>"
      ]
     },
     "execution_count": 63,
     "metadata": {},
     "output_type": "execute_result"
    },
    {
     "data": {
      "image/png": "[encoded data removed]",
      "text/plain": [
       "<Figure size 640x480 with 1 Axes>"
      ]
     },
     "metadata": {},
     "output_type": "display_data"
    }
   ],
   "source": [
    "#observed data plot\n",
    "plt.scatter(X_test[:,0],y_test,c=y_test)"
   ]
  },
  {
   "cell_type": "code",
   "execution_count": 64,
   "id": "01c8d96a",
   "metadata": {},
   "outputs": [
    {
     "data": {
      "text/plain": [
       "<matplotlib.collections.PathCollection at 0x2182c1411c0>"
      ]
     },
     "execution_count": 64,
     "metadata": {},
     "output_type": "execute_result"
    },
    {
     "data": {
      "image/png": "[encoded data removed]",
      "text/plain": [
       "<Figure size 640x480 with 1 Axes>"
      ]
     },
     "metadata": {},
     "output_type": "display_data"
    }
   ],
   "source": [
    "#predicted data plot\n",
    "plt.scatter(X_test[:,0],y_pred,c=y_pred)"
   ]
  },
  {
   "cell_type": "code",
   "execution_count": 65,
   "id": "0849e285",
   "metadata": {},
   "outputs": [],
   "source": [
    "#KNN\n",
    "from sklearn.neighbors import KNeighborsClassifier"
   ]
  },
  {
   "cell_type": "code",
   "execution_count": 66,
   "id": "0e9df9e8",
   "metadata": {},
   "outputs": [],
   "source": [
    "knnclf=KNeighborsClassifier(n_neighbors=5)"
   ]
  },
  {
   "cell_type": "code",
   "execution_count": 67,
   "id": "8f43dbb0",
   "metadata": {},
   "outputs": [
    {
     "data": {
      "text/plain": [
       "KNeighborsClassifier()"
      ]
     },
     "execution_count": 67,
     "metadata": {},
     "output_type": "execute_result"
    }
   ],
   "source": [
    "knnclf.fit(X_train,y_train)"
   ]
  },
  {
   "cell_type": "code",
   "execution_count": 68,
   "id": "f34cbe11",
   "metadata": {},
   "outputs": [
    {
     "name": "stderr",
     "output_type": "stream",
     "text": [
      "C:\\Users\\nmand\\anaconda3\\lib\\site-packages\\sklearn\\neighbors\\_classification.py:228: FutureWarning: Unlike other reduction functions (e.g. `skew`, `kurtosis`), the default behavior of `mode` typically preserves the axis it acts along. In SciPy 1.11.0, this behavior will change: the default value of `keepdims` will become False, the `axis` over which the statistic is taken will be eliminated, and the value None will no longer be accepted. Set `keepdims` to True or False to avoid this warning.\n",
      "  mode, _ = stats.mode(_y[neigh_ind, k], axis=1)\n"
     ]
    },
    {
     "data": {
      "text/plain": [
       "array([1, 0, 1, 1, 0, 1, 1, 1, 1, 1, 1, 1, 1, 1, 1, 1, 1, 1, 1, 0, 1, 1,\n",
       "       1, 1, 1, 1, 0, 0, 0, 0, 1, 1, 1, 0, 0, 0, 0, 1, 1, 0, 1, 0, 1, 0,\n",
       "       1, 1, 1, 0, 1, 0, 0, 0, 1, 0, 1, 0, 1, 1, 1, 0, 1, 1, 1, 1, 1, 1,\n",
       "       1, 0, 1, 1, 1, 1, 0, 0, 1, 0, 0, 0, 1, 0, 1, 0, 1, 1, 1, 0, 1, 1,\n",
       "       1, 1, 1, 1, 1, 0, 1, 1, 1, 1, 0, 1, 0, 1, 1, 1, 1, 0, 1, 1, 0, 0,\n",
       "       1, 0, 1, 0, 0, 1, 1, 1, 1, 1, 0, 1, 0])"
      ]
     },
     "execution_count": 68,
     "metadata": {},
     "output_type": "execute_result"
    }
   ],
   "source": [
    "knnclf.predict(X_test)"
   ]
  },
  {
   "cell_type": "code",
   "execution_count": 69,
   "id": "f10cd140",
   "metadata": {},
   "outputs": [
    {
     "name": "stderr",
     "output_type": "stream",
     "text": [
      "C:\\Users\\nmand\\anaconda3\\lib\\site-packages\\sklearn\\neighbors\\_classification.py:228: FutureWarning: Unlike other reduction functions (e.g. `skew`, `kurtosis`), the default behavior of `mode` typically preserves the axis it acts along. In SciPy 1.11.0, this behavior will change: the default value of `keepdims` will become False, the `axis` over which the statistic is taken will be eliminated, and the value None will no longer be accepted. Set `keepdims` to True or False to avoid this warning.\n",
      "  mode, _ = stats.mode(_y[neigh_ind, k], axis=1)\n"
     ]
    }
   ],
   "source": [
    "y_pred=knnclf.predict(X_test)"
   ]
  },
  {
   "cell_type": "code",
   "execution_count": 70,
   "id": "a7b2c61a",
   "metadata": {},
   "outputs": [
    {
     "data": {
      "text/plain": [
       "<matplotlib.collections.PathCollection at 0x2182c21fee0>"
      ]
     },
     "execution_count": 70,
     "metadata": {},
     "output_type": "execute_result"
    },
    {
     "data": {
      "image/png": "[encoded data removed]",
      "text/plain": [
       "<Figure size 640x480 with 1 Axes>"
      ]
     },
     "metadata": {},
     "output_type": "display_data"
    }
   ],
   "source": [
    "plt.scatter(X_test[:,0],y_test,c=y_test)"
   ]
  },
  {
   "cell_type": "code",
   "execution_count": 71,
   "id": "4ff5b3ac",
   "metadata": {},
   "outputs": [
    {
     "data": {
      "text/plain": [
       "<matplotlib.collections.PathCollection at 0x2182c2d64c0>"
      ]
     },
     "execution_count": 71,
     "metadata": {},
     "output_type": "execute_result"
    },
    {
     "data": {
      "image/png": "[encoded data removed]",
      "text/plain": [
       "<Figure size 640x480 with 1 Axes>"
      ]
     },
     "metadata": {},
     "output_type": "display_data"
    }
   ],
   "source": [
    "plt.scatter(X_test[:,0],y_pred,c=y_pred)"
   ]
  },
  {
   "cell_type": "code",
   "execution_count": 72,
   "id": "733994ef",
   "metadata": {},
   "outputs": [
    {
     "data": {
      "text/plain": [
       "0.6260162601626016"
      ]
     },
     "execution_count": 72,
     "metadata": {},
     "output_type": "execute_result"
    }
   ],
   "source": [
    "metrics.accuracy_score(y_test,y_pred)"
   ]
  },
  {
   "cell_type": "code",
   "execution_count": 73,
   "id": "a06c074e",
   "metadata": {},
   "outputs": [],
   "source": [
    "cm=metrics.confusion_matrix(y_test,y_pred)"
   ]
  },
  {
   "cell_type": "code",
   "execution_count": 74,
   "id": "a86dd5dc",
   "metadata": {},
   "outputs": [
    {
     "data": {
      "text/plain": [
       "array([[14, 19],\n",
       "       [27, 63]], dtype=int64)"
      ]
     },
     "execution_count": 74,
     "metadata": {},
     "output_type": "execute_result"
    }
   ],
   "source": [
    "cm"
   ]
  },
  {
   "cell_type": "code",
   "execution_count": 75,
   "id": "af1bf0c8",
   "metadata": {},
   "outputs": [],
   "source": [
    "#Support Vector Machine"
   ]
  },
  {
   "cell_type": "code",
   "execution_count": 76,
   "id": "67337609",
   "metadata": {},
   "outputs": [],
   "source": [
    "from sklearn.svm import SVC"
   ]
  },
  {
   "cell_type": "code",
   "execution_count": 77,
   "id": "9c81d6be",
   "metadata": {},
   "outputs": [],
   "source": [
    "svcrbf=SVC(random_state=0)\n",
    "svclin=SVC(random_state=0)"
   ]
  },
  {
   "cell_type": "code",
   "execution_count": 78,
   "id": "d9f20586",
   "metadata": {},
   "outputs": [
    {
     "data": {
      "text/plain": [
       "SVC(random_state=0)"
      ]
     },
     "execution_count": 78,
     "metadata": {},
     "output_type": "execute_result"
    }
   ],
   "source": [
    "svcrbf.fit(X_train,y_train)\n",
    "svclin.fit(X_train,y_train)"
   ]
  },
  {
   "cell_type": "code",
   "execution_count": 79,
   "id": "33a8c15b",
   "metadata": {},
   "outputs": [],
   "source": [
    "y_predr=svcrbf.predict(X_test)\n",
    "y_predl=svclin.predict(X_test)"
   ]
  },
  {
   "cell_type": "code",
   "execution_count": 80,
   "id": "085e69a6",
   "metadata": {},
   "outputs": [
    {
     "data": {
      "text/plain": [
       "0.7317073170731707"
      ]
     },
     "execution_count": 80,
     "metadata": {},
     "output_type": "execute_result"
    }
   ],
   "source": [
    "#rbf svm\n",
    "metrics.accuracy_score(y_test,y_predr)"
   ]
  },
  {
   "cell_type": "code",
   "execution_count": 81,
   "id": "857fb71d",
   "metadata": {},
   "outputs": [
    {
     "data": {
      "text/plain": [
       "0.7317073170731707"
      ]
     },
     "execution_count": 81,
     "metadata": {},
     "output_type": "execute_result"
    }
   ],
   "source": [
    "#lin svm\n",
    "metrics.accuracy_score(y_test,y_predl)"
   ]
  },
  {
   "cell_type": "code",
   "execution_count": null,
   "id": "4e0e6084",
   "metadata": {},
   "outputs": [],
   "source": []
  }
 ],
 "metadata": {
  "kernelspec": {
   "display_name": "Python 3 (ipykernel)",
   "language": "python",
   "name": "python3"
  },
  "language_info": {
   "codemirror_mode": {
    "name": "ipython",
    "version": 3
   },
   "file_extension": ".py",
   "mimetype": "text/x-python",
   "name": "python",
   "nbconvert_exporter": "python",
   "pygments_lexer": "ipython3",
   "version": "3.9.13"
  }
 },
 "nbformat": 4,
 "nbformat_minor": 5
}
